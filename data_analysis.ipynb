{
 "cells": [
  {
   "cell_type": "code",
   "execution_count": 1,
   "id": "98138054",
   "metadata": {},
   "outputs": [],
   "source": [
    "import os\n",
    "import pandas as pd\n",
    "import matplotlib.pyplot as plt\n",
    "import seaborn as sns\n",
    "import numpy as np"
   ]
  },
  {
   "cell_type": "code",
   "execution_count": 2,
   "id": "2e65f5fe",
   "metadata": {},
   "outputs": [
    {
     "data": {
      "text/plain": [
       "['1659304908.conf',\n",
       " '1659304908.data',\n",
       " '1659305246.conf',\n",
       " '1659305246.data',\n",
       " '1659305282.conf',\n",
       " '1659305282.data',\n",
       " '1659305308.conf',\n",
       " '1659305308.data',\n",
       " '1659305434.conf',\n",
       " '1659305434.data',\n",
       " '1659305469.conf',\n",
       " '1659304908_heatmap.png']"
      ]
     },
     "execution_count": 2,
     "metadata": {},
     "output_type": "execute_result"
    }
   ],
   "source": [
    "path = \"../data_extinction/without_pills/\"\n",
    "\n",
    "# check available runs\n",
    "os.listdir(path)"
   ]
  },
  {
   "cell_type": "code",
   "execution_count": 3,
   "id": "6726fe22",
   "metadata": {},
   "outputs": [
    {
     "name": "stdout",
     "output_type": "stream",
     "text": [
      "autoplayer_ann_mode = nb4\n",
      "\n",
      "ghost_chase_time = 5\n",
      "\n",
      "ghost_scatter_time = 2\n",
      "\n",
      "default_zoom = 3\n",
      "\n",
      "difficulty = 3\n",
      "\n",
      "seed = 1659304908\n",
      "\n",
      "autoplayer_ann_depth = 1\n",
      "\n",
      "autoplayer_ann_width = 7\n",
      "\n",
      "ghost_speed_factor = 10\n",
      "\n",
      "ghost_active_population = 1\n",
      "\n",
      "ghost_population = 100\n",
      "\n",
      "ghost_target_spread = 4\n",
      "\n",
      "autoplayer_speed_factor = 10\n",
      "\n",
      "autoplayer_active_population = 1\n",
      "\n",
      "autoplayer_population = 3000\n",
      "\n",
      "autoplayer_search_path_length = 5\n",
      "\n",
      "autoplayer_mutate_chance = 0.05\n",
      "\n",
      "autoplayer_mutate_percentage = 0.05\n",
      "\n"
     ]
    }
   ],
   "source": [
    "# choose a run for analysis\n",
    "selected_run = \"1659304908\"\n",
    "\n",
    "# print configuration used\n",
    "with open(f\"{path}{selected_run}.conf\", 'r') as f:\n",
    "    for line in f.readlines():\n",
    "        print(line)"
   ]
  },
  {
   "cell_type": "code",
   "execution_count": 4,
   "id": "935fe6f2",
   "metadata": {},
   "outputs": [
    {
     "name": "stdout",
     "output_type": "stream",
     "text": [
      "    timestamp  actor_id actor_type event_type  cell_x  cell_y\n",
      "0  1659304908         1      ghost    created       0       0\n",
      "1  1659304908         2     player    created       0       0\n",
      "2  1659304911         2     player  destroyed       7       7\n",
      "3  1659304911         3     player    created       7       7\n",
      "4  1659304911         3     player  destroyed      13      11\n",
      "---------\n",
      "Index(['timestamp', 'actor_id', 'actor_type', 'event_type', 'cell_x',\n",
      "       'cell_y'],\n",
      "      dtype='object')\n",
      "---------\n",
      "timestamp      int64\n",
      "actor_id       int64\n",
      "actor_type    object\n",
      "event_type    object\n",
      "cell_x         int64\n",
      "cell_y         int64\n",
      "dtype: object\n"
     ]
    }
   ],
   "source": [
    "data = pd.read_csv(f\"{path}{selected_run}.data\", skipinitialspace = True)\n",
    "print(data.head())\n",
    "print(\"---------\")\n",
    "print(data.columns)\n",
    "print(\"---------\")\n",
    "print(data.dtypes)"
   ]
  },
  {
   "cell_type": "code",
   "execution_count": 5,
   "id": "4316f699",
   "metadata": {},
   "outputs": [
    {
     "data": {
      "text/plain": [
       "0           created\n",
       "1           created\n",
       "2         destroyed\n",
       "3           created\n",
       "4         destroyed\n",
       "            ...    \n",
       "202626    destroyed\n",
       "202627      created\n",
       "202628    destroyed\n",
       "202629      created\n",
       "202630    destroyed\n",
       "Name: event_type, Length: 202631, dtype: object"
      ]
     },
     "execution_count": 5,
     "metadata": {},
     "output_type": "execute_result"
    }
   ],
   "source": [
    "data[\"event_type\"]"
   ]
  },
  {
   "cell_type": "code",
   "execution_count": 6,
   "id": "1f08f6ea",
   "metadata": {},
   "outputs": [
    {
     "data": {
      "text/html": [
       "<div>\n",
       "<style scoped>\n",
       "    .dataframe tbody tr th:only-of-type {\n",
       "        vertical-align: middle;\n",
       "    }\n",
       "\n",
       "    .dataframe tbody tr th {\n",
       "        vertical-align: top;\n",
       "    }\n",
       "\n",
       "    .dataframe thead th {\n",
       "        text-align: right;\n",
       "    }\n",
       "</style>\n",
       "<table border=\"1\" class=\"dataframe\">\n",
       "  <thead>\n",
       "    <tr style=\"text-align: right;\">\n",
       "      <th></th>\n",
       "      <th>timestamp</th>\n",
       "      <th>actor_id</th>\n",
       "      <th>actor_type</th>\n",
       "      <th>event_type</th>\n",
       "      <th>cell_x</th>\n",
       "      <th>cell_y</th>\n",
       "    </tr>\n",
       "  </thead>\n",
       "  <tbody>\n",
       "    <tr>\n",
       "      <th>0</th>\n",
       "      <td>1659304908</td>\n",
       "      <td>1</td>\n",
       "      <td>ghost</td>\n",
       "      <td>created</td>\n",
       "      <td>0</td>\n",
       "      <td>0</td>\n",
       "    </tr>\n",
       "    <tr>\n",
       "      <th>1</th>\n",
       "      <td>1659304908</td>\n",
       "      <td>2</td>\n",
       "      <td>player</td>\n",
       "      <td>created</td>\n",
       "      <td>0</td>\n",
       "      <td>0</td>\n",
       "    </tr>\n",
       "    <tr>\n",
       "      <th>3</th>\n",
       "      <td>1659304911</td>\n",
       "      <td>3</td>\n",
       "      <td>player</td>\n",
       "      <td>created</td>\n",
       "      <td>7</td>\n",
       "      <td>7</td>\n",
       "    </tr>\n",
       "    <tr>\n",
       "      <th>5</th>\n",
       "      <td>1659304911</td>\n",
       "      <td>4</td>\n",
       "      <td>player</td>\n",
       "      <td>created</td>\n",
       "      <td>13</td>\n",
       "      <td>11</td>\n",
       "    </tr>\n",
       "    <tr>\n",
       "      <th>7</th>\n",
       "      <td>1659304912</td>\n",
       "      <td>5</td>\n",
       "      <td>player</td>\n",
       "      <td>created</td>\n",
       "      <td>3</td>\n",
       "      <td>6</td>\n",
       "    </tr>\n",
       "  </tbody>\n",
       "</table>\n",
       "</div>"
      ],
      "text/plain": [
       "    timestamp  actor_id actor_type event_type  cell_x  cell_y\n",
       "0  1659304908         1      ghost    created       0       0\n",
       "1  1659304908         2     player    created       0       0\n",
       "3  1659304911         3     player    created       7       7\n",
       "5  1659304911         4     player    created      13      11\n",
       "7  1659304912         5     player    created       3       6"
      ]
     },
     "execution_count": 6,
     "metadata": {},
     "output_type": "execute_result"
    }
   ],
   "source": [
    "data_creation = data[data[\"event_type\"] == \"created\"]\n",
    "data_creation.head()"
   ]
  },
  {
   "cell_type": "code",
   "execution_count": 7,
   "id": "52895a9e",
   "metadata": {},
   "outputs": [
    {
     "data": {
      "text/html": [
       "<div>\n",
       "<style scoped>\n",
       "    .dataframe tbody tr th:only-of-type {\n",
       "        vertical-align: middle;\n",
       "    }\n",
       "\n",
       "    .dataframe tbody tr th {\n",
       "        vertical-align: top;\n",
       "    }\n",
       "\n",
       "    .dataframe thead th {\n",
       "        text-align: right;\n",
       "    }\n",
       "</style>\n",
       "<table border=\"1\" class=\"dataframe\">\n",
       "  <thead>\n",
       "    <tr style=\"text-align: right;\">\n",
       "      <th></th>\n",
       "      <th>timestamp</th>\n",
       "      <th>actor_id</th>\n",
       "      <th>actor_type</th>\n",
       "      <th>event_type</th>\n",
       "      <th>cell_x</th>\n",
       "      <th>cell_y</th>\n",
       "    </tr>\n",
       "  </thead>\n",
       "  <tbody>\n",
       "    <tr>\n",
       "      <th>2</th>\n",
       "      <td>1659304911</td>\n",
       "      <td>2</td>\n",
       "      <td>player</td>\n",
       "      <td>destroyed</td>\n",
       "      <td>7</td>\n",
       "      <td>7</td>\n",
       "    </tr>\n",
       "    <tr>\n",
       "      <th>4</th>\n",
       "      <td>1659304911</td>\n",
       "      <td>3</td>\n",
       "      <td>player</td>\n",
       "      <td>destroyed</td>\n",
       "      <td>13</td>\n",
       "      <td>11</td>\n",
       "    </tr>\n",
       "    <tr>\n",
       "      <th>6</th>\n",
       "      <td>1659304912</td>\n",
       "      <td>4</td>\n",
       "      <td>player</td>\n",
       "      <td>destroyed</td>\n",
       "      <td>3</td>\n",
       "      <td>6</td>\n",
       "    </tr>\n",
       "    <tr>\n",
       "      <th>8</th>\n",
       "      <td>1659304912</td>\n",
       "      <td>5</td>\n",
       "      <td>player</td>\n",
       "      <td>destroyed</td>\n",
       "      <td>23</td>\n",
       "      <td>2</td>\n",
       "    </tr>\n",
       "    <tr>\n",
       "      <th>10</th>\n",
       "      <td>1659304913</td>\n",
       "      <td>6</td>\n",
       "      <td>player</td>\n",
       "      <td>destroyed</td>\n",
       "      <td>2</td>\n",
       "      <td>2</td>\n",
       "    </tr>\n",
       "  </tbody>\n",
       "</table>\n",
       "</div>"
      ],
      "text/plain": [
       "     timestamp  actor_id actor_type event_type  cell_x  cell_y\n",
       "2   1659304911         2     player  destroyed       7       7\n",
       "4   1659304911         3     player  destroyed      13      11\n",
       "6   1659304912         4     player  destroyed       3       6\n",
       "8   1659304912         5     player  destroyed      23       2\n",
       "10  1659304913         6     player  destroyed       2       2"
      ]
     },
     "execution_count": 7,
     "metadata": {},
     "output_type": "execute_result"
    }
   ],
   "source": [
    "data_destruction = data[data[\"event_type\"] == \"destroyed\"]\n",
    "data_destruction.head()"
   ]
  },
  {
   "cell_type": "code",
   "execution_count": 8,
   "id": "97840c62",
   "metadata": {},
   "outputs": [],
   "source": [
    "# player_destruction heatmap\n",
    "player_destruction = data_destruction[data_destruction[\"actor_type\"] == \"player\"]\n",
    "heatmap_points = list(zip(player_destruction[\"cell_x\"], player_destruction[\"cell_y\"]))\n",
    "#print(heatmap_points)"
   ]
  },
  {
   "cell_type": "code",
   "execution_count": 13,
   "id": "bd53c504",
   "metadata": {
    "scrolled": true
   },
   "outputs": [
    {
     "data": {
      "text/plain": [
       "<Figure size 432x288 with 0 Axes>"
      ]
     },
     "metadata": {},
     "output_type": "display_data"
    },
    {
     "data": {
      "image/png": "[encoded data removed]",
      "text/plain": [
       "<Figure size 1152x864 with 2 Axes>"
      ]
     },
     "metadata": {
      "needs_background": "light"
     },
     "output_type": "display_data"
    }
   ],
   "source": [
    "heatmap_hist, xedges, yedges = np.histogram2d(player_destruction[\"cell_x\"], player_destruction[\"cell_y\"], bins = (28, 14))\n",
    "extent = [xedges[0], xedges[-1], yedges[0], yedges[-1]]\n",
    "#print(xedges[0] - 1, xedges[-1] + 1, yedges[0] - 1, yedges[-1] + 1)\n",
    "\n",
    "%matplotlib inline\n",
    "plt.clf()\n",
    "plt.figure(figsize=(16,12))\n",
    "plt.imshow(heatmap_hist.T, extent = extent)\n",
    "plt.colorbar()\n",
    "plt.savefig(f\"{path}{selected_run}_heatmap.png\", dpi=100)\n",
    "plt.show()"
   ]
  },
  {
   "cell_type": "code",
   "execution_count": null,
   "id": "67cfb08f",
   "metadata": {
    "scrolled": true
   },
   "outputs": [],
   "source": []
  },
  {
   "cell_type": "code",
   "execution_count": null,
   "id": "52d90ee3",
   "metadata": {},
   "outputs": [],
   "source": []
  }
 ],
 "metadata": {
  "kernelspec": {
   "display_name": "Python 3 (ipykernel)",
   "language": "python",
   "name": "python3"
  },
  "language_info": {
   "codemirror_mode": {
    "name": "ipython",
    "version": 3
   },
   "file_extension": ".py",
   "mimetype": "text/x-python",
   "name": "python",
   "nbconvert_exporter": "python",
   "pygments_lexer": "ipython3",
   "version": "3.9.7"
  }
 },
 "nbformat": 4,
 "nbformat_minor": 5
}
